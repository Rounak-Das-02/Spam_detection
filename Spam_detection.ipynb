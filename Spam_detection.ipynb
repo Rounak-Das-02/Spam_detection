{
  "nbformat": 4,
  "nbformat_minor": 0,
  "metadata": {
    "colab": {
      "name": "Spam detection",
      "provenance": [],
      "authorship_tag": "ABX9TyOEv6BqVyIsYLXQ6M/29KJH",
      "include_colab_link": true
    },
    "kernelspec": {
      "name": "python3",
      "display_name": "Python 3"
    }
  },
  "cells": [
    {
      "cell_type": "markdown",
      "metadata": {
        "id": "view-in-github",
        "colab_type": "text"
      },
      "source": [
        "<a href=\"https://colab.research.google.com/github/Rounak-Das-02/Spam_detection/blob/master/Spam_detection.ipynb\" target=\"_parent\"><img src=\"https://colab.research.google.com/assets/colab-badge.svg\" alt=\"Open In Colab\"/></a>"
      ]
    },
    {
      "cell_type": "code",
      "metadata": {
        "id": "WxcwEMf1N6qi",
        "colab_type": "code",
        "colab": {}
      },
      "source": [
        "!git clone https://github.com/tejank10/Spam-or-Ham.git"
      ],
      "execution_count": 0,
      "outputs": []
    },
    {
      "cell_type": "code",
      "metadata": {
        "id": "QFr276s3OA0z",
        "colab_type": "code",
        "colab": {}
      },
      "source": [
        "import pandas as pd\n",
        "import numpy as np\n",
        "from sklearn.model_selection import train_test_split\n"
      ],
      "execution_count": 0,
      "outputs": []
    },
    {
      "cell_type": "code",
      "metadata": {
        "id": "AgotmLj2Oftn",
        "colab_type": "code",
        "colab": {}
      },
      "source": [
        "import chardet\n",
        "rawdata = open(\"/content/Spam-or-Ham/spam.csv\" , \"rb\").read()\n",
        "result = chardet.detect(rawdata)\n",
        "result"
      ],
      "execution_count": 0,
      "outputs": []
    },
    {
      "cell_type": "code",
      "metadata": {
        "id": "XIuMPQFFOQHD",
        "colab_type": "code",
        "colab": {}
      },
      "source": [
        "df = pd.read_csv(\"/content/Spam-or-Ham/spam.csv\" , encoding= \"Windows-1252\")\n",
        "df.head()\n",
        "df = df.drop(df.columns[[2,3,4]] , axis = 1)\n",
        "df.head()\n",
        "print(df.shape)"
      ],
      "execution_count": 0,
      "outputs": []
    },
    {
      "cell_type": "code",
      "metadata": {
        "id": "w_BL0PTNPM15",
        "colab_type": "code",
        "colab": {}
      },
      "source": [
        "from sklearn import preprocessing"
      ],
      "execution_count": 0,
      "outputs": []
    },
    {
      "cell_type": "code",
      "metadata": {
        "id": "JmaWARcCR6fk",
        "colab_type": "code",
        "colab": {}
      },
      "source": [
        "label = preprocessing.LabelEncoder()\n",
        "target = label.fit_transform(df['v1'])"
      ],
      "execution_count": 0,
      "outputs": []
    },
    {
      "cell_type": "code",
      "metadata": {
        "id": "vfAVSFZDUa-q",
        "colab_type": "code",
        "colab": {}
      },
      "source": [
        "from sklearn.feature_extraction.text import TfidfVectorizer"
      ],
      "execution_count": 0,
      "outputs": []
    },
    {
      "cell_type": "code",
      "metadata": {
        "id": "TBSBaKmbVQey",
        "colab_type": "code",
        "colab": {}
      },
      "source": [
        "x_train , x_test , y_train , y_test = train_test_split(df['v2'] , target , test_size = 0.2)"
      ],
      "execution_count": 0,
      "outputs": []
    },
    {
      "cell_type": "code",
      "metadata": {
        "id": "uqXJ1DZ5t9s_",
        "colab_type": "code",
        "colab": {}
      },
      "source": [
        "print(x_train)"
      ],
      "execution_count": 0,
      "outputs": []
    },
    {
      "cell_type": "code",
      "metadata": {
        "id": "GZHtJ0WfVlvx",
        "colab_type": "code",
        "colab": {}
      },
      "source": [
        "tfid = TfidfVectorizer()\n",
        "X_train  =  tfid.fit_transform(x_train)\n",
        "X_test = tfid.transform(x_test)"
      ],
      "execution_count": 0,
      "outputs": []
    },
    {
      "cell_type": "code",
      "metadata": {
        "id": "QJ1KAvgHVs0S",
        "colab_type": "code",
        "colab": {}
      },
      "source": [
        "from sklearn.linear_model import PassiveAggressiveClassifier"
      ],
      "execution_count": 0,
      "outputs": []
    },
    {
      "cell_type": "code",
      "metadata": {
        "id": "vLHKnFQWV_dE",
        "colab_type": "code",
        "colab": {}
      },
      "source": [
        "pac = PassiveAggressiveClassifier()\n",
        "pac.fit(X_train , y_train)"
      ],
      "execution_count": 0,
      "outputs": []
    },
    {
      "cell_type": "code",
      "metadata": {
        "id": "vkDtInBXWjuh",
        "colab_type": "code",
        "colab": {}
      },
      "source": [
        "y_pred = pac.predict(X_test)"
      ],
      "execution_count": 0,
      "outputs": []
    },
    {
      "cell_type": "code",
      "metadata": {
        "id": "UZFpa8qOW3Bn",
        "colab_type": "code",
        "colab": {}
      },
      "source": [
        "from sklearn.metrics import accuracy_score"
      ],
      "execution_count": 0,
      "outputs": []
    },
    {
      "cell_type": "code",
      "metadata": {
        "id": "aSdAo7-HXANb",
        "colab_type": "code",
        "colab": {}
      },
      "source": [
        "score = accuracy_score(y_test , y_pred) * 100"
      ],
      "execution_count": 0,
      "outputs": []
    },
    {
      "cell_type": "code",
      "metadata": {
        "id": "hc6bkw-WXIfB",
        "colab_type": "code",
        "outputId": "f193dc5d-b13a-4086-cc0a-45d6ff576231",
        "colab": {
          "base_uri": "https://localhost:8080/",
          "height": 34
        }
      },
      "source": [
        "score"
      ],
      "execution_count": 0,
      "outputs": [
        {
          "output_type": "execute_result",
          "data": {
            "text/plain": [
              "98.65470852017937"
            ]
          },
          "metadata": {
            "tags": []
          },
          "execution_count": 16
        }
      ]
    },
    {
      "cell_type": "code",
      "metadata": {
        "id": "EwOd-w_3Xe2T",
        "colab_type": "code",
        "colab": {}
      },
      "source": [
        "import joblib"
      ],
      "execution_count": 0,
      "outputs": []
    },
    {
      "cell_type": "code",
      "metadata": {
        "id": "W9Qdjl0MXhIS",
        "colab_type": "code",
        "colab": {}
      },
      "source": [
        "joblib.dump(pac, \"model.pkl\")\n",
        "joblib.dump(x_train , \"dictionary.pkl\")"
      ],
      "execution_count": 0,
      "outputs": []
    },
    {
      "cell_type": "code",
      "metadata": {
        "id": "V3cM3XuOXJIW",
        "colab_type": "code",
        "colab": {}
      },
      "source": [
        "from sklearn import preprocessing\n",
        "import joblib\n",
        "from sklearn.feature_extraction.text import TfidfVectorizer , TfidfTransformer,CountVectorizer\n",
        "from sklearn.linear_model import PassiveAggressiveClassifier"
      ],
      "execution_count": 0,
      "outputs": []
    },
    {
      "cell_type": "code",
      "metadata": {
        "id": "Q4vQgMgYiNBx",
        "colab_type": "code",
        "colab": {}
      },
      "source": [
        "import numpy as np\n"
      ],
      "execution_count": 0,
      "outputs": []
    },
    {
      "cell_type": "code",
      "metadata": {
        "id": "diH9x8LCXaFJ",
        "colab_type": "code",
        "colab": {}
      },
      "source": [
        "model = joblib.load(\"model.pkl\")\n",
        "dict = joblib.load(\"dictionary.pkl\")"
      ],
      "execution_count": 0,
      "outputs": []
    },
    {
      "cell_type": "code",
      "metadata": {
        "id": "XTdEjLU2YCY7",
        "colab_type": "code",
        "outputId": "0eac32a1-7a79-45b4-b0f8-1106d09e66f4",
        "colab": {
          "base_uri": "https://localhost:8080/",
          "height": 34
        }
      },
      "source": [
        "tfid = TfidfVectorizer()\n",
        "X = tfid.fit_transform(dict)\n",
        "Y = tfid.transform([\"Cadbury is giving away 500 Free baskets of Cadbury Chocolate to EVERYONE on its 196th ANNIVERSARY. Hurry Up! Get your free cadbury basket at : http://cad-bskt114cht.wx8.xyz\"])\n",
        "categories = [\"ham\" , \"spam\"]\n",
        "categories[int(model.predict(Y))]"
      ],
      "execution_count": 0,
      "outputs": [
        {
          "output_type": "execute_result",
          "data": {
            "text/plain": [
              "'spam'"
            ]
          },
          "metadata": {
            "tags": []
          },
          "execution_count": 23
        }
      ]
    },
    {
      "cell_type": "code",
      "metadata": {
        "id": "v0ggSE-1YG7G",
        "colab_type": "code",
        "colab": {}
      },
      "source": [
        ""
      ],
      "execution_count": 0,
      "outputs": []
    },
    {
      "cell_type": "code",
      "metadata": {
        "id": "d7s2uGtnYN7K",
        "colab_type": "code",
        "colab": {}
      },
      "source": [
        ""
      ],
      "execution_count": 0,
      "outputs": []
    }
  ]
}